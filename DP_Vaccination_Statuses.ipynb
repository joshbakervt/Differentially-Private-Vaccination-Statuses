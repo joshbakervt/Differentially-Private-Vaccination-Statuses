{
  "nbformat": 4,
  "nbformat_minor": 0,
  "metadata": {
    "colab": {
      "name": "DP_Vaccination_Statuses.ipynb",
      "provenance": [],
      "collapsed_sections": []
    },
    "kernelspec": {
      "name": "python3",
      "display_name": "Python 3"
    },
    "language_info": {
      "name": "python"
    }
  },
  "cells": [
    {
      "cell_type": "markdown",
      "metadata": {
        "id": "3Qd_yTu8wYGi"
      },
      "source": [
        "This Project implements data of vaccination rates of all counties in the US, as of 11/18/2021"
      ]
    },
    {
      "cell_type": "code",
      "metadata": {
        "id": "wGeUmXOowJTy"
      },
      "source": [
        "# Load the data and libraries\n",
        "import pandas as pd\n",
        "import numpy as np\n",
        "import decimal\n",
        "from scipy import stats\n",
        "import matplotlib.pyplot as plt\n",
        "plt.style.use('seaborn-whitegrid')\n",
        "\n",
        "def laplace_mech(v, sensitivity, epsilon):\n",
        "    return v + np.random.laplace(loc=0, scale=sensitivity / epsilon)\n",
        "\n",
        "def gaussian_mech(v, sensitivity, epsilon, delta):\n",
        "    return v + np.random.normal(loc=0, scale=sensitivity * np.sqrt(2*np.log(1.25/delta)) / epsilon)\n",
        "\n",
        "def pct_error(orig, priv):\n",
        "    return np.abs(orig - priv)/orig * 100.0\n",
        "\n",
        "# This is where the data we will work on is located\n",
        "vaccination = pd.read_csv('https://raw.githubusercontent.com/joshbakervt/Differentially-Private-Vaccination-Statuses/main/Vaccination_Status_Processed.csv')\n",
        "\n",
        "# The columns to use are:\n",
        "# Date, Recip_County, Recip_State, Series_Complete_Pop_Pct, Series_Complete_Yes,\n",
        "# Series_Complete_12PlusPop_Pct, Series_Complete_18PlusPop_Pct, Series_Complete_65PlusPop_Pct, Completeness_pct,\n",
        "# Administered_Dose1_Pop_Pct, Administered_Dose1_Recip_12Plus"
      ],
      "execution_count": null,
      "outputs": []
    },
    {
      "cell_type": "markdown",
      "metadata": {
        "id": "SyqdH_BX22Ou"
      },
      "source": [
        "To start, we will format the data in the dataset to be operable. We will do this by creating an isolated list of all states, and completed percentages of their respective counties"
      ]
    },
    {
      "cell_type": "code",
      "metadata": {
        "colab": {
          "base_uri": "https://localhost:8080/"
        },
        "id": "sKHeFNcIqs8L",
        "outputId": "d98e4dc7-e508-4054-8e51-ef3fb6ab98c9"
      },
      "source": [
        "# Create a list of states:\n",
        "def create_state_list(df):\n",
        "  states_in_list = []\n",
        "  for i in vaccination['Recip_State']:\n",
        "    if i not in states_in_list:\n",
        "      states_in_list.append(i)\n",
        "  return states_in_list\n",
        "\n",
        "# This number should be 59, as other US provinces and territories are included\n",
        "print(len(create_state_list(vaccination)))"
      ],
      "execution_count": null,
      "outputs": [
        {
          "output_type": "stream",
          "name": "stdout",
          "text": [
            "59\n"
          ]
        }
      ]
    },
    {
      "cell_type": "markdown",
      "metadata": {
        "id": "Kd0TwbvL2O58"
      },
      "source": [
        "Down the line, we will want to have our data grouped based on region in the US. We will split these areas into West, Midwest, Northeast, and South"
      ]
    },
    {
      "cell_type": "markdown",
      "source": [
        "There are a total of 59 states and/or territories in the dataset, but we will focus on the 50 states on a US map."
      ],
      "metadata": {
        "id": "B15MtUJQ2bjK"
      }
    },
    {
      "cell_type": "code",
      "metadata": {
        "id": "T9naB6AR2Ojt"
      },
      "source": [
        "west = ['WA','MT','OR','ID','WY','CA','AK','NV','UT','CO','HI']\n",
        "midwest = ['ND','MN','SD','NE','KS','IA','MO','IL','WI','IN','OH','MI']\n",
        "northeast = ['PA','NY','NH','MA','ME','NJ','DE','CT','RI','VT']\n",
        "south = ['AZ','NM','OK','TX','AR','LA','MS','MD','AL','TN','KY','WV','VA','NC','SC','GA','FL']"
      ],
      "execution_count": null,
      "outputs": []
    },
    {
      "cell_type": "code",
      "metadata": {
        "id": "5jMLgFJvuaqy"
      },
      "source": [
        "def number_elements(state):\n",
        "  return len(vaccination[(vaccination['Recip_State'] == state)]) - 1"
      ],
      "execution_count": null,
      "outputs": []
    },
    {
      "cell_type": "code",
      "metadata": {
        "id": "OB5-eAY2q2ai"
      },
      "source": [
        "states_in_list = create_state_list(vaccination)"
      ],
      "execution_count": null,
      "outputs": []
    },
    {
      "cell_type": "markdown",
      "metadata": {
        "id": "Yk6yQwP3BqUq"
      },
      "source": [
        "The following code runs a query for counties in each of the four regions, returning the statistical percentage of where counties lie, either under or over a vaccination completion rate of 50%"
      ]
    },
    {
      "cell_type": "code",
      "metadata": {
        "id": "M0aau1hn9qsG",
        "colab": {
          "base_uri": "https://localhost:8080/"
        },
        "outputId": "5e146ece-1768-4006-9e91-8258ca9a1a43"
      },
      "source": [
        "def state_query_under(region):\n",
        "  total = 0\n",
        "  result = 0\n",
        "  for states in region:\n",
        "    total += len(vaccination[(vaccination['Recip_State'] == states)])\n",
        "    result += len(vaccination[(vaccination['Recip_State'] == states) & (vaccination[\"Series_Complete_Pop_Pct\"] <= 50)])\n",
        "  final = (result/total)\n",
        "  return round(final, 2)\n",
        "\n",
        "def state_query_over(region):\n",
        "  total = 0\n",
        "  result = 0\n",
        "  for states in region:\n",
        "    total += len(vaccination[(vaccination['Recip_State'] == states)])\n",
        "    result += len(vaccination[(vaccination['Recip_State'] == states) & (vaccination[\"Series_Complete_Pop_Pct\"] > 50)])\n",
        "  final = (result/total)\n",
        "  return round(final, 2)\n",
        "\n",
        "region_grouping = []\n",
        "region_grouping.append(northeast)\n",
        "region_grouping.append(south)\n",
        "region_grouping.append(west)\n",
        "region_grouping.append(midwest)\n",
        "for b in region_grouping:\n",
        "  print(b)\n",
        "  print(\"Counties with Vaccination Rate Under 50:\", str(state_query_under(b))+\"%\") \n",
        "  print(\"Counties with Vaccination Rate Over 50:\", str(state_query_over(b))+\"%\\n\") \n",
        "  # print(b,\"percentage under half: %\"+str((under/total_counties)*100))\n"
      ],
      "execution_count": null,
      "outputs": [
        {
          "output_type": "stream",
          "name": "stdout",
          "text": [
            "['PA', 'NY', 'NH', 'MA', 'ME', 'NJ', 'DE', 'CT', 'RI', 'VT']\n",
            "Counties with Vaccination Rate Under 50: 0.24%\n",
            "Counties with Vaccination Rate Over 50: 0.76%\n",
            "\n",
            "['AZ', 'NM', 'OK', 'TX', 'AR', 'LA', 'MS', 'MD', 'AL', 'TN', 'KY', 'WV', 'VA', 'NC', 'SC', 'GA', 'FL']\n",
            "Counties with Vaccination Rate Under 50: 0.8%\n",
            "Counties with Vaccination Rate Over 50: 0.2%\n",
            "\n",
            "['WA', 'MT', 'OR', 'ID', 'WY', 'CA', 'AK', 'NV', 'UT', 'CO', 'HI']\n",
            "Counties with Vaccination Rate Under 50: 0.56%\n",
            "Counties with Vaccination Rate Over 50: 0.44%\n",
            "\n",
            "['ND', 'MN', 'SD', 'NE', 'KS', 'IA', 'MO', 'IL', 'WI', 'IN', 'OH', 'MI']\n",
            "Counties with Vaccination Rate Under 50: 0.65%\n",
            "Counties with Vaccination Rate Over 50: 0.35%\n",
            "\n"
          ]
        }
      ]
    },
    {
      "cell_type": "markdown",
      "metadata": {
        "id": "QmJ7B_-5CjEL"
      },
      "source": [
        "Then, we add Laplace noise to the counting queries, ensuring differential privacy for  𝜖 = 1.0 ."
      ]
    },
    {
      "cell_type": "code",
      "metadata": {
        "id": "q6sAEpUPCuZO"
      },
      "source": [
        "def dp_state_query_under(region, epsilon):\n",
        "  result = state_query_under(region)\n",
        "  return laplace_mech(result, 1, epsilon)\n",
        "\n",
        "def dp_state_query_over(region, epsilon):\n",
        "  result = state_query_over(region)\n",
        "  return laplace_mech(result, 1, epsilon)"
      ],
      "execution_count": null,
      "outputs": []
    },
    {
      "cell_type": "code",
      "source": [
        "for b in region_grouping:\n",
        "  print(b)\n",
        "  print(\"Counties with Differentially Private Vaccination Rate Under 50:\", str(dp_state_query_under(b, 1))+\"%\") \n",
        "  print(\"Counties with Differentivally Private Vaccination Rate Over 50:\", str(dp_state_query_over(b, 1))+\"%\\n\") \n"
      ],
      "metadata": {
        "colab": {
          "base_uri": "https://localhost:8080/"
        },
        "id": "p87suzcp99vn",
        "outputId": "6431181a-f91b-4d3e-a630-985c045816df"
      },
      "execution_count": null,
      "outputs": [
        {
          "output_type": "stream",
          "name": "stdout",
          "text": [
            "['PA', 'NY', 'NH', 'MA', 'ME', 'NJ', 'DE', 'CT', 'RI', 'VT']\n",
            "Counties with Differentially Private Vaccination Rate Under 50: 3.518531568839835%\n",
            "Counties with Differentivally Private Vaccination Rate Over 50: 2.996328974207338%\n",
            "\n",
            "['AZ', 'NM', 'OK', 'TX', 'AR', 'LA', 'MS', 'MD', 'AL', 'TN', 'KY', 'WV', 'VA', 'NC', 'SC', 'GA', 'FL']\n",
            "Counties with Differentially Private Vaccination Rate Under 50: 1.0066223552029827%\n",
            "Counties with Differentivally Private Vaccination Rate Over 50: -2.908670594406329%\n",
            "\n",
            "['WA', 'MT', 'OR', 'ID', 'WY', 'CA', 'AK', 'NV', 'UT', 'CO', 'HI']\n",
            "Counties with Differentially Private Vaccination Rate Under 50: 0.8006116305793023%\n",
            "Counties with Differentivally Private Vaccination Rate Over 50: -0.026806172504175108%\n",
            "\n",
            "['ND', 'MN', 'SD', 'NE', 'KS', 'IA', 'MO', 'IL', 'WI', 'IN', 'OH', 'MI']\n",
            "Counties with Differentially Private Vaccination Rate Under 50: 1.197419518216199%\n",
            "Counties with Differentivally Private Vaccination Rate Over 50: -0.2926926587181897%\n",
            "\n"
          ]
        }
      ]
    },
    {
      "cell_type": "markdown",
      "metadata": {
        "id": "8OJk0Bri3u3s"
      },
      "source": [
        "I will then design a scoring function that returns specific scores for common rates of vaccine statistics. This will allow us to retrieve data without exposing any singular county. We can either retreive data by state or by region. To get a widened perpsective, let's look at the data by regional location in the US (this is separated by the lists we created earlier)."
      ]
    },
    {
      "cell_type": "code",
      "metadata": {
        "colab": {
          "base_uri": "https://localhost:8080/"
        },
        "id": "eBz1U60Tq_BV",
        "outputId": "e5fad816-2ebd-496d-ad9b-8e1802562274"
      },
      "source": [
        "options = [10, 20, 30, 40, 50, 60, 70, 80, 90]\n",
        "def score(option, region):\n",
        "    # We need to put our data into a format that is easier to calculate\n",
        "    # We can match the indexes together\n",
        "    list_state = []\n",
        "    list_pct = []\n",
        "    rounded_pct = []\n",
        "    for i in vaccination['Series_Complete_Pop_Pct']:\n",
        "      list_pct.append(i)\n",
        "    # Since our original scoring function design is not optimized to work on \n",
        "    # such diverse data ranges,\n",
        "    # we must round the data to group it together more efficiently\n",
        "    for i in list_pct:\n",
        "      rounded_pct.append(round(int(i)/10)*10)\n",
        "    for b in vaccination['Recip_State']:\n",
        "      list_state.append(b)\n",
        "    for a in list_state:\n",
        "      if a not in region:\n",
        "        list_state.remove(a)\n",
        "    # We will use a for loop to return the length of all matching statistics in the newly rounded data\n",
        "    length = 0\n",
        "    for i in list_state:\n",
        "      location_in_list = list_state.index(i)\n",
        "      if(rounded_pct[location_in_list] == option):\n",
        "        length += 1\n",
        "    return length\n",
        "\n",
        "def print_scores(options, region):\n",
        "  for o in options:\n",
        "    print(o,\":\", score(o, region))\n",
        "\n",
        "print(\"WEST:\")\n",
        "print_scores(options, west)\n",
        "print(\"\\nMIDWEST:\")\n",
        "print_scores(options, midwest)\n",
        "print(\"\\nSOUTH:\")\n",
        "print_scores(options, south)\n",
        "print(\"\\nNORTHEAST:\")\n",
        "print_scores(options, northeast)"
      ],
      "execution_count": null,
      "outputs": [
        {
          "output_type": "stream",
          "name": "stdout",
          "text": [
            "WEST:\n",
            "10 : 0\n",
            "20 : 34\n",
            "30 : 216\n",
            "40 : 725\n",
            "50 : 405\n",
            "60 : 269\n",
            "70 : 36\n",
            "80 : 0\n",
            "90 : 0\n",
            "\n",
            "MIDWEST:\n",
            "10 : 140\n",
            "20 : 88\n",
            "30 : 46\n",
            "40 : 624\n",
            "50 : 470\n",
            "60 : 320\n",
            "70 : 114\n",
            "80 : 0\n",
            "90 : 0\n",
            "\n",
            "SOUTH:\n",
            "10 : 0\n",
            "20 : 176\n",
            "30 : 238\n",
            "40 : 545\n",
            "50 : 767\n",
            "60 : 282\n",
            "70 : 31\n",
            "80 : 0\n",
            "90 : 0\n",
            "\n",
            "NORTHEAST:\n",
            "10 : 0\n",
            "20 : 51\n",
            "30 : 283\n",
            "40 : 623\n",
            "50 : 434\n",
            "60 : 260\n",
            "70 : 16\n",
            "80 : 0\n",
            "90 : 0\n"
          ]
        }
      ]
    },
    {
      "cell_type": "markdown",
      "source": [
        "This function returns some seriously interesting data!"
      ],
      "metadata": {
        "id": "APXBRb2Mzvd7"
      }
    },
    {
      "cell_type": "code",
      "source": [
        "epsilon = 1\n",
        "sensitivity = 1\n",
        "for r in region_grouping:\n",
        "  print(r)\n",
        "  for o in options:\n",
        "    print(o,':', np.exp(epsilon * score(o, r) / (2 * sensitivity)))\n",
        "\n",
        "    probabilities = [np.exp(epsilon * score(o, r) / (2 * sensitivity)) for o in options]\n",
        "    total = np.sum(probabilities)\n",
        "  normalized_probabilities = probabilities / total\n",
        "  print(\"\\nNormalized Probabilities: \\n \")\n",
        "  for p in normalized_probabilities:\n",
        "    print(p)"
      ],
      "metadata": {
        "colab": {
          "base_uri": "https://localhost:8080/"
        },
        "id": "BS0zkKbeF5OU",
        "outputId": "a297cc17-bf76-460c-e5ce-b7c5a08bcacb"
      },
      "execution_count": null,
      "outputs": [
        {
          "output_type": "stream",
          "name": "stdout",
          "text": [
            "['PA', 'NY', 'NH', 'MA', 'ME', 'NJ', 'DE', 'CT', 'RI', 'VT']\n",
            "10 : 1.0\n",
            "20 : 118716009132.16965\n",
            "30 : 2.835758152526971e+61\n",
            "40 : 1.917481192378928e+135\n",
            "50 : 1.7454305496765193e+94\n",
            "60 : 2.872649550817832e+56\n",
            "70 : 2980.9579870417283\n",
            "80 : 1.0\n",
            "90 : 1.0\n",
            "\n",
            "Normalized Probabilities: \n",
            " \n",
            "5.215175011752514e-136\n",
            "6.191247643210744e-125\n",
            "1.4788975056432133e-74\n",
            "1.0\n",
            "9.102725787422439e-42\n",
            "1.4981370154947242e-79\n",
            "1.5546217605104098e-132\n",
            "5.215175011752514e-136\n",
            "5.215175011752514e-136\n",
            "['AZ', 'NM', 'OK', 'TX', 'AR', 'LA', 'MS', 'MD', 'AL', 'TN', 'KY', 'WV', 'VA', 'NC', 'SC', 'GA', 'FL']\n",
            "10 : 1.0\n",
            "20 : 1.6516362549940018e+38\n",
            "30 : 4.797813327299302e+51\n",
            "40 : 2.214350265713347e+118\n",
            "50 : 3.563968114388433e+166\n",
            "60 : 1.7199742630376623e+61\n",
            "70 : 5389698.476283012\n",
            "80 : 1.0\n",
            "90 : 1.0\n",
            "\n",
            "Normalized Probabilities: \n",
            " \n",
            "2.8058612420318953e-167\n",
            "4.634262153822378e-129\n",
            "1.34619984615732e-115\n",
            "6.213159586848109e-49\n",
            "1.0\n",
            "4.826009121949749e-106\n",
            "1.5122746060840865e-160\n",
            "2.8058612420318953e-167\n",
            "2.8058612420318953e-167\n",
            "['WA', 'MT', 'OR', 'ID', 'WY', 'CA', 'AK', 'NV', 'UT', 'CO', 'HI']\n",
            "10 : 1.0\n",
            "20 : 24154952.7535753\n",
            "30 : 8.013164264000591e+46\n",
            "40 : 2.7024003590501545e+157\n",
            "50 : 8.803038179039366e+87\n",
            "60 : 2.585876717963538e+58\n",
            "70 : 65659969.13733051\n",
            "80 : 1.0\n",
            "90 : 1.0\n",
            "\n",
            "Normalized Probabilities: \n",
            " \n",
            "3.700413954768279e-158\n",
            "8.938332424609852e-151\n",
            "2.9652024864358274e-111\n",
            "1.0\n",
            "3.257488532207521e-70\n",
            "9.568814292462674e-100\n",
            "2.4296906606543237e-150\n",
            "3.700413954768279e-158\n",
            "3.700413954768279e-158\n",
            "['ND', 'MN', 'SD', 'NE', 'KS', 'IA', 'MO', 'IL', 'WI', 'IN', 'OH', 'MI']\n",
            "10 : 2.515438670919167e+30\n",
            "20 : 1.2851600114359308e+19\n",
            "30 : 9744803446.248903\n",
            "40 : 3.161392028042583e+135\n",
            "50 : 1.146049160231141e+102\n",
            "60 : 3.0698496406442424e+69\n",
            "70 : 5.685719999335932e+24\n",
            "80 : 1.0\n",
            "90 : 1.0\n",
            "\n",
            "Normalized Probabilities: \n",
            " \n",
            "7.9567438919514e-106\n",
            "4.065171291747877e-117\n",
            "3.082440696949099e-126\n",
            "1.0\n",
            "3.6251409191435593e-34\n",
            "9.710436457780847e-67\n",
            "1.7984862202794635e-111\n",
            "3.163163540395093e-136\n",
            "3.163163540395093e-136\n"
          ]
        }
      ]
    },
    {
      "cell_type": "markdown",
      "source": [
        "Then, we will implement a differentially private Report Noisy Max function that returns the value most prevalent in the scoring function."
      ],
      "metadata": {
        "id": "MnZ4LLuIGSRO"
      }
    },
    {
      "cell_type": "code",
      "source": [
        "def report_noisy_max(R, score, region, sensitivity, epsilon):\n",
        "    # Step 1\n",
        "    scores = [score(r, region) for r in R]\n",
        "\n",
        "    # Step 2\n",
        "    noisy_scores = [laplace_mech(s, sensitivity, epsilon) for s in scores]\n",
        "\n",
        "    # Step 3\n",
        "    idx = np.argmax(noisy_scores)\n",
        "    return R[idx]\n",
        "\n",
        "for r in region_grouping:\n",
        "  print(r)\n",
        "  print(report_noisy_max(options, score, r, 1, .01))"
      ],
      "metadata": {
        "colab": {
          "base_uri": "https://localhost:8080/"
        },
        "id": "B4JgpETeGVh_",
        "outputId": "281a80c5-c566-4ff0-f011-964470fff309"
      },
      "execution_count": null,
      "outputs": [
        {
          "output_type": "stream",
          "name": "stdout",
          "text": [
            "['PA', 'NY', 'NH', 'MA', 'ME', 'NJ', 'DE', 'CT', 'RI', 'VT']\n",
            "40\n",
            "['AZ', 'NM', 'OK', 'TX', 'AR', 'LA', 'MS', 'MD', 'AL', 'TN', 'KY', 'WV', 'VA', 'NC', 'SC', 'GA', 'FL']\n",
            "50\n",
            "['WA', 'MT', 'OR', 'ID', 'WY', 'CA', 'AK', 'NV', 'UT', 'CO', 'HI']\n",
            "40\n",
            "['ND', 'MN', 'SD', 'NE', 'KS', 'IA', 'MO', 'IL', 'WI', 'IN', 'OH', 'MI']\n",
            "50\n"
          ]
        }
      ]
    },
    {
      "cell_type": "markdown",
      "metadata": {
        "id": "Z9mB4f3j8kpz"
      },
      "source": [
        "I will use sample-and-aggregate to determine the average status, overall, by region"
      ]
    },
    {
      "cell_type": "code",
      "source": [
        "def f(df):\n",
        "  return df.mean()\n",
        "\n",
        "def saa_avg_status(k, epsilon, region):\n",
        "  list_state = []\n",
        "  list_pct = []\n",
        "  final_pct = []\n",
        "  for i in vaccination['Series_Complete_Pop_Pct']:\n",
        "      list_pct.append(i)\n",
        "  for b in vaccination['Recip_State']:\n",
        "      list_state.append(b)\n",
        "  for a in list_state:\n",
        "      location_in_list = list_state.index(a)\n",
        "      final_pct.append(list_pct[location_in_list])\n",
        "  \n",
        "  df = pd.DataFrame(final_pct, columns=[\"Series_Complete_Pop_Pct\"])\n",
        "\n",
        "  # Calculate the number of rows in each chunk\n",
        "  chunk_size = int(np.ceil(df.shape[0] / k))\n",
        "\n",
        "  # Step 1: Split 'df' into chunks\n",
        "  xs = [df[i:i+chunk_size] for i in range(0,df.shape[0],chunk_size)]\n",
        "\n",
        "  # Step 2: run f on each x_i and clip its output\n",
        "  answers = [f(x_i) for x_i in xs]\n",
        "\n",
        "  u = 100\n",
        "  l = 0\n",
        "  clipped_answers = np.clip(answers, l, u)\n",
        "\n",
        "  # Step 3: take the noisy mean of the clipped answers\n",
        "  noisy_mean = laplace_mech(np.mean(clipped_answers), (u-l)/k, epsilon)\n",
        "  return noisy_mean"
      ],
      "metadata": {
        "id": "DDhBjv1ZtH6d"
      },
      "execution_count": null,
      "outputs": []
    },
    {
      "cell_type": "markdown",
      "source": [
        "Let's apply this to a couple states - k accounts for the number of counties in each state."
      ],
      "metadata": {
        "id": "w4-4dJwixzQa"
      }
    },
    {
      "cell_type": "code",
      "source": [
        "print(\"VERMONT\")\n",
        "print(saa_avg_status(15, 1, 'VT'))\n",
        "\n",
        "print(\"TEXAS\")\n",
        "print(saa_avg_status(254, 1, 'TX'))"
      ],
      "metadata": {
        "colab": {
          "base_uri": "https://localhost:8080/"
        },
        "id": "OnGcxtwExRQE",
        "outputId": "2f07b600-eb48-4c3d-f683-ee34596bc9a4"
      },
      "execution_count": null,
      "outputs": [
        {
          "output_type": "stream",
          "name": "stdout",
          "text": [
            "VERMONT\n",
            "33.193905336176186\n",
            "TEXAS\n",
            "43.14039618297217\n"
          ]
        }
      ]
    },
    {
      "cell_type": "markdown",
      "metadata": {
        "id": "pddwKUGs_Bh5"
      },
      "source": [
        "Finally, to get a thorough synopsis of the differentially-private data, I will also apply these techniques to broader locations as well, such as Northeast, Southwest, etc. This will allow us to determine statistics by region without uncovering any county’s individual data, and present them"
      ]
    },
    {
      "cell_type": "code",
      "source": [
        "\n",
        "print(\"WEST\")\n",
        "print(saa_avg_status(len(west), 1, west))\n",
        "print(\"\\nMIDWEST\")\n",
        "print(saa_avg_status(len(midwest), 1, midwest))\n",
        "print(\"\\nSOUTH\")\n",
        "print(saa_avg_status(len(south), 1, south))\n",
        "print(\"\\nNORTHEAST\")\n",
        "print(saa_avg_status(len(northeast), 1, northeast))"
      ],
      "metadata": {
        "colab": {
          "base_uri": "https://localhost:8080/"
        },
        "id": "0f1jHItcxQ4O",
        "outputId": "888b4eb0-f2fe-4746-c932-653d802a8d6f"
      },
      "execution_count": null,
      "outputs": [
        {
          "output_type": "stream",
          "name": "stdout",
          "text": [
            "WEST\n",
            "38.470896921588725\n",
            "\n",
            "MIDWEST\n",
            "45.83825668169696\n",
            "\n",
            "SOUTH\n",
            "38.38411004972079\n",
            "\n",
            "NORTHEAST\n",
            "45.79969914993697\n"
          ]
        }
      ]
    },
    {
      "cell_type": "markdown",
      "source": [
        "Some graphs, for fun."
      ],
      "metadata": {
        "id": "Pxu5sbKMym7n"
      }
    },
    {
      "cell_type": "code",
      "metadata": {
        "colab": {
          "base_uri": "https://localhost:8080/",
          "height": 279
        },
        "id": "5soVxfCrpb5s",
        "outputId": "2ed22d41-2145-4031-fc97-d64e151e1956"
      },
      "source": [
        "# All individual county statistics\n",
        "vaccination['Series_Complete_Pop_Pct'].hist()"
      ],
      "execution_count": null,
      "outputs": [
        {
          "output_type": "execute_result",
          "data": {
            "text/plain": [
              "<matplotlib.axes._subplots.AxesSubplot at 0x7f9b6430da50>"
            ]
          },
          "metadata": {},
          "execution_count": 18
        },
        {
          "output_type": "display_data",
          "data": {
            "image/png": "[encoded data removed]",
            "text/plain": [
              "<Figure size 432x288 with 1 Axes>"
            ]
          },
          "metadata": {
            "needs_background": "light"
          }
        }
      ]
    },
    {
      "cell_type": "code",
      "metadata": {
        "colab": {
          "base_uri": "https://localhost:8080/",
          "height": 279
        },
        "id": "AsZ4eW9m1S3I",
        "outputId": "1c221b46-694b-4336-b937-d6b1b38d7e5b"
      },
      "source": [
        "def status_hist():\n",
        "    return round((vaccination['Series_Complete_Pop_Pct']/10)*10).value_counts()\n",
        "\n",
        "status_hist().hist()"
      ],
      "execution_count": null,
      "outputs": [
        {
          "output_type": "execute_result",
          "data": {
            "text/plain": [
              "<matplotlib.axes._subplots.AxesSubplot at 0x7f9b642e56d0>"
            ]
          },
          "metadata": {},
          "execution_count": 19
        },
        {
          "output_type": "display_data",
          "data": {
            "image/png": "[encoded data removed]",
            "text/plain": [
              "<Figure size 432x288 with 1 Axes>"
            ]
          },
          "metadata": {
            "needs_background": "light"
          }
        }
      ]
    }
  ]
}